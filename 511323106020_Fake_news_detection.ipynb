{
  "nbformat": 4,
  "nbformat_minor": 0,
  "metadata": {
    "colab": {
      "provenance": [],
      "authorship_tag": "ABX9TyMwWqXdn9P2HogsON1/0mSh",
      "include_colab_link": true
    },
    "kernelspec": {
      "name": "python3",
      "display_name": "Python 3"
    },
    "language_info": {
      "name": "python"
    }
  },
  "cells": [
    {
      "cell_type": "markdown",
      "metadata": {
        "id": "view-in-github",
        "colab_type": "text"
      },
      "source": [
        "<a href=\"https://colab.research.google.com/github/gokulk27/511323106020-fake-news-detection/blob/main/511323106020_Fake_news_detection.ipynb\" target=\"_parent\"><img src=\"https://colab.research.google.com/assets/colab-badge.svg\" alt=\"Open In Colab\"/></a>"
      ]
    },
    {
      "cell_type": "code",
      "execution_count": null,
      "metadata": {
        "id": "dDe8yDNAAyBP"
      },
      "outputs": [],
      "source": [
        "import pandas as pd\n",
        "import streamlit as st\n",
        "from sklearn.feature_extraction.text import TfidfVectorizer\n",
        "from sklearn.model_selection import train_test_split\n",
        "from sklearn.linear_model import PassiveAggressiveClassifier\n",
        "from sklearn.metrics import accuracy_score\n",
        "\n",
        "# Title\n",
        "st.title(\"📰 Fake News Detector\")\n",
        "st.write(\"Enter a news headline or article content to check if it's *REAL* or *FAKE*.\")\n",
        "\n",
        "# Load dataset\n",
        "@st.cache_data\n",
        "def load_data():\n",
        "    df = pd.read_csv(r\"C:\\Users\\Desktop\\gokul\\news_dataset.csv\")\n",
        "    return df\n",
        "\n",
        "df = load_data()\n",
        "\n",
        "# Preprocess and train model\n",
        "@st.cache_resource\n",
        "def train_model(df):\n",
        "    X = df['text']\n",
        "    y = df['label']\n",
        "    X_train, X_test, y_train, y_test = train_test_split(X, y, test_size=0.25, random_state=42)\n",
        "\n",
        "    vectorizer = TfidfVectorizer(stop_words='english', max_df=0.7)\n",
        "    X_train_vec = vectorizer.fit_transform(X_train)\n",
        "    X_test_vec = vectorizer.transform(X_test)\n",
        "\n",
        "    model = PassiveAggressiveClassifier(max_iter=50)\n",
        "    model.fit(X_train_vec, y_train)\n",
        "\n",
        "    accuracy = accuracy_score(y_test, model.predict(X_test_vec))\n",
        "    return model, vectorizer, accuracy\n",
        "\n",
        "model, vectorizer, accuracy = train_model(df)\n",
        "\n",
        "# Display accuracy\n",
        "st.success(f\"✅ Model trained with {accuracy * 100:.2f}% accuracy.\")\n",
        "\n",
        "# User input\n",
        "user_input = st.text_area(\"🔤 Enter news text here:\", height=200)\n",
        "\n",
        "if user_input:\n",
        "    input_vec = vectorizer.transform([user_input])\n",
        "    prediction = model.predict(input_vec)[0]\n",
        "    st.subheader(\"🔎 Prediction:\")\n",
        "    if prediction.lower() == 'fake':\n",
        "        st.error(\"❌ FAKE News Detected!\")\n",
        "    else:\n",
        "        st.success(\"✅ This appears to be REAL News.\")\n",
        "\n",
        "st.markdown(\"---\")\n",
        "st.caption(\"Built by Batch 4\")"
      ]
    }
  ]
}